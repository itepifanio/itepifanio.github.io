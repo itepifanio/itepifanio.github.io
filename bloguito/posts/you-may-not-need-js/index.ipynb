{
 "cells": [
  {
   "cell_type": "markdown",
   "metadata": {},
   "source": [
    "---\n",
    "    title: 'The Rise of Python in Data Product Development: Exploring Solara'\n",
    "    author: Ítalo Epifânio\n",
    "    date: 10/17/2023\n",
    "    categories: [English]\n",
    "    image: rising-python.png\n",
    "    draft: false\n",
    "    execute: \n",
    "        enabled: false\n",
    "        error: false\n",
    "        echo: false\n",
    "        freeze: true\n",
    "---"
   ]
  },
  {
   "cell_type": "markdown",
   "metadata": {},
   "source": [
    "## Your Data, Your Language, Your Products\n",
    "\n",
    "The emerging trend of tool-building for data scientists is manifestly \n",
    "by the immense traction PyScript gained within the tech community upon its initiation.\n",
    "This momentum shows a collective desire to simplify the journey of creating data products. \n",
    "Data scientists, that already posses a wide range of knowledge, can accelerate the development \n",
    "of data applications without diving into a new ecosystem like Javascript.\n",
    "\n",
    "As advocates of Python for data product development, we're always observing the the \n",
    "evolution of its ecossystem. At Palaimon GmbH, our expertise with [ipywidgets](https://ipywidgets.readthedocs.io/en/stable/) (a lib with \n",
    "interactive HTML widgets for Jupyter Notebooks) has led to innovations like [Ipyannotator](https://github.com/palaimon/ipyannotator), \n",
    "an open source framework dedicated to data annotation, but using ipywidgets has some \n",
    "challenges and as the applications grows in complexity, they became increasingly difficult t\n",
    "o manage.\n",
    "\n",
    "Solara, an open-source framework, draws inspiration from the JavaScript ecosystem to create reusable components using a strategy that has stood the test of time. Our experiments with Solara have demonstrated its capability to facilitate the crafting of larger and more intricate data applications\n",
    "\n",
    "::: {.callout-note icon=false}\n",
    "# Python + Data + Web Apps\n",
    "\n",
    "If you've ever felt limited by a lack of JavaScript experience or wished for a \n",
    "more straightforward way to build data products, Python might be your answer. \n",
    "With tools available in Python, building data products can be more aligned with \n",
    "what you already know. \n",
    ":::"
   ]
  },
  {
   "cell_type": "markdown",
   "metadata": {},
   "source": [
    "## Solara\n",
    "\n",
    "Solara enables the crafting of expansive data applications by incorporating concepts from React. Its declarative code style makes the codebase more concise, reduces errors, and simplifies comprehension. Solara's design facilitates easy code reuse through componentization, feature that was ambiguous when developing with ipywidgets.\n",
    "\n",
    "While ipywidgets are commonly paired with the [voilà library](https://github.com/voila-dashboards/voila) to convert Jupyter notebooks into web applications for non-technical users, Solara boasts its own web server. This allows for the sharing of a more tailored web application compared to voilà.\n",
    "\n",
    "In my exploration of Solara for video and image annotation, I discovered that its built-in plotly component lacked the capabilities to construct an annotator. However, [I successfully developed a custom plotly component](https://github.com/widgetti/solara/pull/285) and was able to contribute with [the new feature](https://solara.dev/examples/visualization/annotator). I'm immensely satisfied with using Solara for such tool development and the ease of reusing its components.\n",
    "\n",
    "Below is an example of the annotator feature integrated into the library:"
   ]
  },
  {
   "cell_type": "code",
   "execution_count": null,
   "metadata": {},
   "outputs": [],
   "source": [
    "import json\n",
    "\n",
    "import solara\n",
    "import numpy as np\n",
    "from PIL import Image as PILImage\n",
    "import plotly.graph_objects as go"
   ]
  },
  {
   "cell_type": "code",
   "execution_count": null,
   "metadata": {},
   "outputs": [],
   "source": [
    "def generate_circle_image(image_size: int) -> PILImage:\n",
    "    circle_image = np.ones((image_size, image_size, 3)) * 255\n",
    "\n",
    "    x_center, y_center = image_size//2, image_size//2\n",
    "    radius = image_size//5\n",
    "\n",
    "    y, x = np.ogrid[-y_center:image_size - y_center, -x_center:image_size - x_center]\n",
    "\n",
    "    mask = x**2 + y**2 <= radius**2\n",
    "\n",
    "    circle_image[mask] = [0, 0, 255]\n",
    "    circle_image = circle_image.astype(np.uint8)\n",
    "\n",
    "    return PILImage.fromarray(circle_image)"
   ]
  },
  {
   "cell_type": "code",
   "execution_count": null,
   "metadata": {},
   "outputs": [],
   "source": [
    "class CustomEncoder(json.JSONEncoder):\n",
    "    \"\"\"\n",
    "    Custom JSON encoder for Plotly objects.\n",
    "\n",
    "    Plotly may return objects that the standard JSON encoder can't handle. This\n",
    "    encoder converts such objects to str, allowing serialization by json.dumps\n",
    "    \"\"\"\n",
    "\n",
    "    def default(self, o):\n",
    "        if isinstance(o, object):\n",
    "            return str(o)\n",
    "        return super().default(o)"
   ]
  },
  {
   "cell_type": "code",
   "execution_count": null,
   "metadata": {},
   "outputs": [],
   "source": [
    "@solara.component\n",
    "def ImageAnnotator(image: np.ndarray):\n",
    "    shapes = solara.use_reactive(None)\n",
    "\n",
    "    def on_relayout(data):\n",
    "        if data is None:\n",
    "            return\n",
    "\n",
    "        relayout_data = data[\"relayout_data\"]\n",
    "\n",
    "        if \"shapes\" in relayout_data:\n",
    "            shapes.value = relayout_data[\"shapes\"]\n",
    "\n",
    "    fig = go.FigureWidget(\n",
    "        layout=go.Layout(\n",
    "            width=image.size[0],\n",
    "            height=image.size[1],\n",
    "            xaxis={\n",
    "                'range': [0, image.size[0]],\n",
    "                'showgrid': False,\n",
    "            },\n",
    "            yaxis={\n",
    "                'range': [0, image.size[1]],\n",
    "                'showgrid': False,\n",
    "            },\n",
    "            showlegend=False,\n",
    "            autosize=False,\n",
    "            margin={'t': 0, 'b': 0, 'l': 0, 'r': 0},\n",
    "            modebar={\n",
    "                \"add\": [\n",
    "                    \"drawclosedpath\",\n",
    "                    \"eraseshape\",\n",
    "                ]\n",
    "            },\n",
    "        )\n",
    "    )\n",
    "\n",
    "    fig.add_layout_image(\n",
    "        source=image,\n",
    "        x=0,\n",
    "        sizex=image.size[0],\n",
    "        y=image.size[1],\n",
    "        sizey=image.size[1],\n",
    "        xref=\"x\",\n",
    "        yref=\"y\",\n",
    "        opacity=1.0,\n",
    "        layer=\"below\",\n",
    "        sizing=\"stretch\",\n",
    "    )\n",
    "\n",
    "    with solara.Row(gap='10px'):\n",
    "        solara.FigurePlotly(fig, on_relayout=on_relayout)\n",
    "        if not shapes.value:\n",
    "            solara.Markdown(\"## Draw on the canvas\")\n",
    "        else:\n",
    "            with solara.Column(gap='10px'):\n",
    "                solara.Markdown(\"## Data returned by drawing\")\n",
    "                formatted_shapes = str(json.dumps(shapes.value, indent=2, cls=CustomEncoder))\n",
    "                solara.Preformatted(formatted_shapes)"
   ]
  },
  {
   "cell_type": "code",
   "execution_count": null,
   "metadata": {},
   "outputs": [],
   "source": [
    "circle_image = generate_circle_image(400)\n",
    "\n",
    "ImageAnnotator(circle_image)"
   ]
  },
  {
   "cell_type": "markdown",
   "metadata": {},
   "source": [
    "{{< video solara-example.mp4 >}}"
   ]
  },
  {
   "cell_type": "markdown",
   "metadata": {},
   "source": [
    "## Navigating the Future with Python\n",
    "\n",
    "In the ever-evolving landscape of data science and application development, tools like Solara are paving the way for more efficient and user-friendly solutions. By bridging the gap between Python and web applications, it offers a promising avenue for data scientists to leverage their expertise without the need to venture into unfamiliar territories. At Palaimon GmbH, we remain committed to harnessing the potential of such innovations, ensuring that the data science community has the best tools at their disposal."
   ]
  }
 ],
 "metadata": {
  "kernelspec": {
   "display_name": "Python 3 (ipykernel)",
   "language": "python",
   "name": "python3"
  },
  "widgets": {
   "application/vnd.jupyter.widget-state+json": {
    "state": {
     "008eb9fbcef14fc8984e28a582846ae6": {
      "model_module": "jupyter-vuetify",
      "model_module_version": "^1.8.10",
      "model_name": "ThemeModel",
      "state": {
       "_model_module": "jupyter-vuetify",
       "_model_module_version": "^1.8.10",
       "_model_name": "ThemeModel",
       "_view_count": null,
       "_view_module": null,
       "_view_module_version": "^1.8.10",
       "_view_name": null,
       "dark": null
      }
     },
     "05eb953d5c104df5848fe40d9ee67800": {
      "model_module": "jupyter-vuetify",
      "model_module_version": "^1.8.5",
      "model_name": "SheetModel",
      "state": {
       "_dom_classes": [],
       "_events": [],
       "_jupyter_vue": "IPY_MODEL_d7bea88a04bd4201b94bf5192302a28b",
       "_metadata": null,
       "_model_module": "jupyter-vuetify",
       "_model_module_version": "^1.8.5",
       "_model_name": "SheetModel",
       "_view_count": null,
       "_view_module": "jupyter-vuetify",
       "_view_module_version": "^1.8.5",
       "_view_name": "VuetifyView",
       "attributes": {},
       "children": [
        "IPY_MODEL_1b3606b5a00b42d4a6f02b18e2da5029",
        "IPY_MODEL_e9b445ad919b4c46aea3eb1a024bd1fc"
       ],
       "class_": "d-flex ma-0",
       "color": null,
       "dark": null,
       "elevation": 0,
       "height": null,
       "layout": null,
       "light": null,
       "max_height": null,
       "max_width": null,
       "min_height": null,
       "min_width": null,
       "slot": null,
       "style_": "flex-direction: row; align-items: stretch; justify-content: start; column-gap: 10px;;",
       "tabbable": null,
       "tag": null,
       "tile": null,
       "tooltip": null,
       "v_model": "!!disabled!!",
       "v_on": null,
       "v_slots": [],
       "width": null
      }
     },
     "0d7c8148df054b86a430fb28f0e42a80": {
      "model_module": "jupyterlab-plotly",
      "model_module_version": "^5.16.1",
      "model_name": "FigureModel",
      "state": {
       "_config": {
        "plotlyServerURL": "https://plot.ly"
       },
       "_data": [],
       "_dom_classes": [],
       "_js2py_layoutDelta": {},
       "_js2py_pointsCallback": {},
       "_js2py_relayout": {},
       "_js2py_restyle": {},
       "_js2py_traceDeltas": {},
       "_js2py_update": {},
       "_last_layout_edit_id": 1,
       "_last_trace_edit_id": 0,
       "_layout": {
        "autosize": false,
        "height": 400,
        "margin": {
         "b": 0,
         "l": 0,
         "r": 0,
         "t": 0
        },
        "modebar": {
         "add": [
          "drawclosedpath",
          "eraseshape"
         ]
        },
        "showlegend": false,
        "width": 400,
        "xaxis": {
         "range": [
          0,
          400
         ],
         "showgrid": false
        },
        "yaxis": {
         "range": [
          0,
          400
         ],
         "showgrid": false
        }
       },
       "_model_module": "jupyterlab-plotly",
       "_model_module_version": "^5.16.1",
       "_model_name": "FigureModel",
       "_py2js_addTraces": {},
       "_py2js_animate": {},
       "_py2js_deleteTraces": {},
       "_py2js_moveTraces": {},
       "_py2js_relayout": null,
       "_py2js_removeLayoutProps": {},
       "_py2js_removeTraceProps": {},
       "_py2js_restyle": {},
       "_py2js_update": {},
       "_view_count": 0,
       "_view_module": "jupyterlab-plotly",
       "_view_module_version": "^5.16.1",
       "_view_name": "FigureView",
       "tabbable": null,
       "tooltip": null
      }
     },
     "1b3606b5a00b42d4a6f02b18e2da5029": {
      "model_module": "jupyterlab-plotly",
      "model_module_version": "^5.16.1",
      "model_name": "FigureModel",
      "state": {
       "_config": {
        "plotlyServerURL": "https://plot.ly"
       },
       "_data": [],
       "_dom_classes": [],
       "_js2py_layoutDelta": {},
       "_js2py_pointsCallback": {},
       "_js2py_relayout": {},
       "_js2py_restyle": {},
       "_js2py_traceDeltas": {},
       "_js2py_update": {},
       "_last_layout_edit_id": 2,
       "_last_trace_edit_id": 1,
       "_layout": {
        "autosize": false,
        "height": 400,
        "images": [
         {
          "layer": "below",
          "opacity": 1,
          "sizex": 400,
          "sizey": 400,
          "sizing": "stretch",
          "source": "data:image/png;base64,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",
          "x": 0,
          "xref": "x",
          "y": 400,
          "yref": "y"
         }
        ],
        "margin": {
         "b": 0,
         "l": 0,
         "r": 0,
         "t": 0
        },
        "modebar": {
         "add": [
          "drawclosedpath",
          "eraseshape"
         ]
        },
        "showlegend": false,
        "template": {
         "data": {
          "bar": [
           {
            "error_x": {
             "color": "#2a3f5f"
            },
            "error_y": {
             "color": "#2a3f5f"
            },
            "marker": {
             "line": {
              "color": "#E5ECF6",
              "width": 0.5
             },
             "pattern": {
              "fillmode": "overlay",
              "size": 10,
              "solidity": 0.2
             }
            },
            "type": "bar"
           }
          ],
          "barpolar": [
           {
            "marker": {
             "line": {
              "color": "#E5ECF6",
              "width": 0.5
             },
             "pattern": {
              "fillmode": "overlay",
              "size": 10,
              "solidity": 0.2
             }
            },
            "type": "barpolar"
           }
          ],
          "carpet": [
           {
            "aaxis": {
             "endlinecolor": "#2a3f5f",
             "gridcolor": "white",
             "linecolor": "white",
             "minorgridcolor": "white",
             "startlinecolor": "#2a3f5f"
            },
            "baxis": {
             "endlinecolor": "#2a3f5f",
             "gridcolor": "white",
             "linecolor": "white",
             "minorgridcolor": "white",
             "startlinecolor": "#2a3f5f"
            },
            "type": "carpet"
           }
          ],
          "choropleth": [
           {
            "colorbar": {
             "outlinewidth": 0,
             "ticks": ""
            },
            "type": "choropleth"
           }
          ],
          "contour": [
           {
            "colorbar": {
             "outlinewidth": 0,
             "ticks": ""
            },
            "colorscale": [
             [
              0,
              "#0d0887"
             ],
             [
              0.1111111111111111,
              "#46039f"
             ],
             [
              0.2222222222222222,
              "#7201a8"
             ],
             [
              0.3333333333333333,
              "#9c179e"
             ],
             [
              0.4444444444444444,
              "#bd3786"
             ],
             [
              0.5555555555555556,
              "#d8576b"
             ],
             [
              0.6666666666666666,
              "#ed7953"
             ],
             [
              0.7777777777777778,
              "#fb9f3a"
             ],
             [
              0.8888888888888888,
              "#fdca26"
             ],
             [
              1,
              "#f0f921"
             ]
            ],
            "type": "contour"
           }
          ],
          "contourcarpet": [
           {
            "colorbar": {
             "outlinewidth": 0,
             "ticks": ""
            },
            "type": "contourcarpet"
           }
          ],
          "heatmap": [
           {
            "colorbar": {
             "outlinewidth": 0,
             "ticks": ""
            },
            "colorscale": [
             [
              0,
              "#0d0887"
             ],
             [
              0.1111111111111111,
              "#46039f"
             ],
             [
              0.2222222222222222,
              "#7201a8"
             ],
             [
              0.3333333333333333,
              "#9c179e"
             ],
             [
              0.4444444444444444,
              "#bd3786"
             ],
             [
              0.5555555555555556,
              "#d8576b"
             ],
             [
              0.6666666666666666,
              "#ed7953"
             ],
             [
              0.7777777777777778,
              "#fb9f3a"
             ],
             [
              0.8888888888888888,
              "#fdca26"
             ],
             [
              1,
              "#f0f921"
             ]
            ],
            "type": "heatmap"
           }
          ],
          "heatmapgl": [
           {
            "colorbar": {
             "outlinewidth": 0,
             "ticks": ""
            },
            "colorscale": [
             [
              0,
              "#0d0887"
             ],
             [
              0.1111111111111111,
              "#46039f"
             ],
             [
              0.2222222222222222,
              "#7201a8"
             ],
             [
              0.3333333333333333,
              "#9c179e"
             ],
             [
              0.4444444444444444,
              "#bd3786"
             ],
             [
              0.5555555555555556,
              "#d8576b"
             ],
             [
              0.6666666666666666,
              "#ed7953"
             ],
             [
              0.7777777777777778,
              "#fb9f3a"
             ],
             [
              0.8888888888888888,
              "#fdca26"
             ],
             [
              1,
              "#f0f921"
             ]
            ],
            "type": "heatmapgl"
           }
          ],
          "histogram": [
           {
            "marker": {
             "pattern": {
              "fillmode": "overlay",
              "size": 10,
              "solidity": 0.2
             }
            },
            "type": "histogram"
           }
          ],
          "histogram2d": [
           {
            "colorbar": {
             "outlinewidth": 0,
             "ticks": ""
            },
            "colorscale": [
             [
              0,
              "#0d0887"
             ],
             [
              0.1111111111111111,
              "#46039f"
             ],
             [
              0.2222222222222222,
              "#7201a8"
             ],
             [
              0.3333333333333333,
              "#9c179e"
             ],
             [
              0.4444444444444444,
              "#bd3786"
             ],
             [
              0.5555555555555556,
              "#d8576b"
             ],
             [
              0.6666666666666666,
              "#ed7953"
             ],
             [
              0.7777777777777778,
              "#fb9f3a"
             ],
             [
              0.8888888888888888,
              "#fdca26"
             ],
             [
              1,
              "#f0f921"
             ]
            ],
            "type": "histogram2d"
           }
          ],
          "histogram2dcontour": [
           {
            "colorbar": {
             "outlinewidth": 0,
             "ticks": ""
            },
            "colorscale": [
             [
              0,
              "#0d0887"
             ],
             [
              0.1111111111111111,
              "#46039f"
             ],
             [
              0.2222222222222222,
              "#7201a8"
             ],
             [
              0.3333333333333333,
              "#9c179e"
             ],
             [
              0.4444444444444444,
              "#bd3786"
             ],
             [
              0.5555555555555556,
              "#d8576b"
             ],
             [
              0.6666666666666666,
              "#ed7953"
             ],
             [
              0.7777777777777778,
              "#fb9f3a"
             ],
             [
              0.8888888888888888,
              "#fdca26"
             ],
             [
              1,
              "#f0f921"
             ]
            ],
            "type": "histogram2dcontour"
           }
          ],
          "mesh3d": [
           {
            "colorbar": {
             "outlinewidth": 0,
             "ticks": ""
            },
            "type": "mesh3d"
           }
          ],
          "parcoords": [
           {
            "line": {
             "colorbar": {
              "outlinewidth": 0,
              "ticks": ""
             }
            },
            "type": "parcoords"
           }
          ],
          "pie": [
           {
            "automargin": true,
            "type": "pie"
           }
          ],
          "scatter": [
           {
            "fillpattern": {
             "fillmode": "overlay",
             "size": 10,
             "solidity": 0.2
            },
            "type": "scatter"
           }
          ],
          "scatter3d": [
           {
            "line": {
             "colorbar": {
              "outlinewidth": 0,
              "ticks": ""
             }
            },
            "marker": {
             "colorbar": {
              "outlinewidth": 0,
              "ticks": ""
             }
            },
            "type": "scatter3d"
           }
          ],
          "scattercarpet": [
           {
            "marker": {
             "colorbar": {
              "outlinewidth": 0,
              "ticks": ""
             }
            },
            "type": "scattercarpet"
           }
          ],
          "scattergeo": [
           {
            "marker": {
             "colorbar": {
              "outlinewidth": 0,
              "ticks": ""
             }
            },
            "type": "scattergeo"
           }
          ],
          "scattergl": [
           {
            "marker": {
             "colorbar": {
              "outlinewidth": 0,
              "ticks": ""
             }
            },
            "type": "scattergl"
           }
          ],
          "scattermapbox": [
           {
            "marker": {
             "colorbar": {
              "outlinewidth": 0,
              "ticks": ""
             }
            },
            "type": "scattermapbox"
           }
          ],
          "scatterpolar": [
           {
            "marker": {
             "colorbar": {
              "outlinewidth": 0,
              "ticks": ""
             }
            },
            "type": "scatterpolar"
           }
          ],
          "scatterpolargl": [
           {
            "marker": {
             "colorbar": {
              "outlinewidth": 0,
              "ticks": ""
             }
            },
            "type": "scatterpolargl"
           }
          ],
          "scatterternary": [
           {
            "marker": {
             "colorbar": {
              "outlinewidth": 0,
              "ticks": ""
             }
            },
            "type": "scatterternary"
           }
          ],
          "surface": [
           {
            "colorbar": {
             "outlinewidth": 0,
             "ticks": ""
            },
            "colorscale": [
             [
              0,
              "#0d0887"
             ],
             [
              0.1111111111111111,
              "#46039f"
             ],
             [
              0.2222222222222222,
              "#7201a8"
             ],
             [
              0.3333333333333333,
              "#9c179e"
             ],
             [
              0.4444444444444444,
              "#bd3786"
             ],
             [
              0.5555555555555556,
              "#d8576b"
             ],
             [
              0.6666666666666666,
              "#ed7953"
             ],
             [
              0.7777777777777778,
              "#fb9f3a"
             ],
             [
              0.8888888888888888,
              "#fdca26"
             ],
             [
              1,
              "#f0f921"
             ]
            ],
            "type": "surface"
           }
          ],
          "table": [
           {
            "cells": {
             "fill": {
              "color": "#EBF0F8"
             },
             "line": {
              "color": "white"
             }
            },
            "header": {
             "fill": {
              "color": "#C8D4E3"
             },
             "line": {
              "color": "white"
             }
            },
            "type": "table"
           }
          ]
         },
         "layout": {
          "annotationdefaults": {
           "arrowcolor": "#2a3f5f",
           "arrowhead": 0,
           "arrowwidth": 1
          },
          "autotypenumbers": "strict",
          "coloraxis": {
           "colorbar": {
            "outlinewidth": 0,
            "ticks": ""
           }
          },
          "colorscale": {
           "diverging": [
            [
             0,
             "#8e0152"
            ],
            [
             0.1,
             "#c51b7d"
            ],
            [
             0.2,
             "#de77ae"
            ],
            [
             0.3,
             "#f1b6da"
            ],
            [
             0.4,
             "#fde0ef"
            ],
            [
             0.5,
             "#f7f7f7"
            ],
            [
             0.6,
             "#e6f5d0"
            ],
            [
             0.7,
             "#b8e186"
            ],
            [
             0.8,
             "#7fbc41"
            ],
            [
             0.9,
             "#4d9221"
            ],
            [
             1,
             "#276419"
            ]
           ],
           "sequential": [
            [
             0,
             "#0d0887"
            ],
            [
             0.1111111111111111,
             "#46039f"
            ],
            [
             0.2222222222222222,
             "#7201a8"
            ],
            [
             0.3333333333333333,
             "#9c179e"
            ],
            [
             0.4444444444444444,
             "#bd3786"
            ],
            [
             0.5555555555555556,
             "#d8576b"
            ],
            [
             0.6666666666666666,
             "#ed7953"
            ],
            [
             0.7777777777777778,
             "#fb9f3a"
            ],
            [
             0.8888888888888888,
             "#fdca26"
            ],
            [
             1,
             "#f0f921"
            ]
           ],
           "sequentialminus": [
            [
             0,
             "#0d0887"
            ],
            [
             0.1111111111111111,
             "#46039f"
            ],
            [
             0.2222222222222222,
             "#7201a8"
            ],
            [
             0.3333333333333333,
             "#9c179e"
            ],
            [
             0.4444444444444444,
             "#bd3786"
            ],
            [
             0.5555555555555556,
             "#d8576b"
            ],
            [
             0.6666666666666666,
             "#ed7953"
            ],
            [
             0.7777777777777778,
             "#fb9f3a"
            ],
            [
             0.8888888888888888,
             "#fdca26"
            ],
            [
             1,
             "#f0f921"
            ]
           ]
          },
          "colorway": [
           "#636efa",
           "#EF553B",
           "#00cc96",
           "#ab63fa",
           "#FFA15A",
           "#19d3f3",
           "#FF6692",
           "#B6E880",
           "#FF97FF",
           "#FECB52"
          ],
          "font": {
           "color": "#2a3f5f"
          },
          "geo": {
           "bgcolor": "white",
           "lakecolor": "white",
           "landcolor": "#E5ECF6",
           "showlakes": true,
           "showland": true,
           "subunitcolor": "white"
          },
          "hoverlabel": {
           "align": "left"
          },
          "hovermode": "closest",
          "mapbox": {
           "style": "light"
          },
          "paper_bgcolor": "white",
          "plot_bgcolor": "#E5ECF6",
          "polar": {
           "angularaxis": {
            "gridcolor": "white",
            "linecolor": "white",
            "ticks": ""
           },
           "bgcolor": "#E5ECF6",
           "radialaxis": {
            "gridcolor": "white",
            "linecolor": "white",
            "ticks": ""
           }
          },
          "scene": {
           "xaxis": {
            "backgroundcolor": "#E5ECF6",
            "gridcolor": "white",
            "gridwidth": 2,
            "linecolor": "white",
            "showbackground": true,
            "ticks": "",
            "zerolinecolor": "white"
           },
           "yaxis": {
            "backgroundcolor": "#E5ECF6",
            "gridcolor": "white",
            "gridwidth": 2,
            "linecolor": "white",
            "showbackground": true,
            "ticks": "",
            "zerolinecolor": "white"
           },
           "zaxis": {
            "backgroundcolor": "#E5ECF6",
            "gridcolor": "white",
            "gridwidth": 2,
            "linecolor": "white",
            "showbackground": true,
            "ticks": "",
            "zerolinecolor": "white"
           }
          },
          "shapedefaults": {
           "line": {
            "color": "#2a3f5f"
           }
          },
          "ternary": {
           "aaxis": {
            "gridcolor": "white",
            "linecolor": "white",
            "ticks": ""
           },
           "baxis": {
            "gridcolor": "white",
            "linecolor": "white",
            "ticks": ""
           },
           "bgcolor": "#E5ECF6",
           "caxis": {
            "gridcolor": "white",
            "linecolor": "white",
            "ticks": ""
           }
          },
          "title": {
           "x": 0.05
          },
          "xaxis": {
           "automargin": true,
           "gridcolor": "white",
           "linecolor": "white",
           "ticks": "",
           "title": {
            "standoff": 15
           },
           "zerolinecolor": "white",
           "zerolinewidth": 2
          },
          "yaxis": {
           "automargin": true,
           "gridcolor": "white",
           "linecolor": "white",
           "ticks": "",
           "title": {
            "standoff": 15
           },
           "zerolinecolor": "white",
           "zerolinewidth": 2
          }
         }
        },
        "width": 400,
        "xaxis": {
         "range": [
          0,
          400
         ],
         "showgrid": false
        },
        "yaxis": {
         "range": [
          0,
          400
         ],
         "showgrid": false
        }
       },
       "_model_module": "jupyterlab-plotly",
       "_model_module_version": "^5.16.1",
       "_model_name": "FigureModel",
       "_py2js_addTraces": null,
       "_py2js_animate": {},
       "_py2js_deleteTraces": {},
       "_py2js_moveTraces": {},
       "_py2js_relayout": null,
       "_py2js_removeLayoutProps": {},
       "_py2js_removeTraceProps": {},
       "_py2js_restyle": {},
       "_py2js_update": {},
       "_view_count": 0,
       "_view_module": "jupyterlab-plotly",
       "_view_module_version": "^5.16.1",
       "_view_name": "FigureView",
       "tabbable": null,
       "tooltip": null
      }
     },
     "3032df5959514f43befe4c8aca474c0a": {
      "model_module": "jupyter-vuetify",
      "model_module_version": "^1.8.10",
      "model_name": "ThemeColorsModel",
      "state": {
       "_model_module": "jupyter-vuetify",
       "_model_module_version": "^1.8.10",
       "_model_name": "ThemeColorsModel",
       "_theme_name": "dark",
       "_view_count": null,
       "_view_module": null,
       "_view_module_version": "^1.8.10",
       "_view_name": null,
       "accent": "#FF4081",
       "anchor": null,
       "error": "#FF5252",
       "info": "#2196F3",
       "primary": "#2196F3",
       "secondary": "#424242",
       "success": "#4CAF50",
       "warning": "#FB8C00"
      }
     },
     "47747cbfb31245d49f926631fbaac2cb": {
      "model_module": "@jupyter-widgets/base",
      "model_module_version": "2.0.0",
      "model_name": "LayoutModel",
      "state": {
       "_model_module": "@jupyter-widgets/base",
       "_model_module_version": "2.0.0",
       "_model_name": "LayoutModel",
       "_view_count": null,
       "_view_module": "@jupyter-widgets/base",
       "_view_module_version": "2.0.0",
       "_view_name": "LayoutView",
       "align_content": null,
       "align_items": null,
       "align_self": null,
       "border_bottom": null,
       "border_left": null,
       "border_right": null,
       "border_top": null,
       "bottom": null,
       "display": null,
       "flex": null,
       "flex_flow": null,
       "grid_area": null,
       "grid_auto_columns": null,
       "grid_auto_flow": null,
       "grid_auto_rows": null,
       "grid_column": null,
       "grid_gap": null,
       "grid_row": null,
       "grid_template_areas": null,
       "grid_template_columns": null,
       "grid_template_rows": null,
       "height": null,
       "justify_content": null,
       "justify_items": null,
       "left": null,
       "margin": null,
       "max_height": null,
       "max_width": null,
       "min_height": null,
       "min_width": null,
       "object_fit": null,
       "object_position": null,
       "order": null,
       "overflow": null,
       "padding": null,
       "right": null,
       "top": null,
       "visibility": null,
       "width": null
      }
     },
     "526813c13b20499fa9f304e1986532a1": {
      "model_module": "@jupyter-widgets/base",
      "model_module_version": "2.0.0",
      "model_name": "LayoutModel",
      "state": {
       "_model_module": "@jupyter-widgets/base",
       "_model_module_version": "2.0.0",
       "_model_name": "LayoutModel",
       "_view_count": null,
       "_view_module": "@jupyter-widgets/base",
       "_view_module_version": "2.0.0",
       "_view_name": "LayoutView",
       "align_content": null,
       "align_items": null,
       "align_self": null,
       "border_bottom": null,
       "border_left": null,
       "border_right": null,
       "border_top": null,
       "bottom": null,
       "display": null,
       "flex": null,
       "flex_flow": null,
       "grid_area": null,
       "grid_auto_columns": null,
       "grid_auto_flow": null,
       "grid_auto_rows": null,
       "grid_column": null,
       "grid_gap": null,
       "grid_row": null,
       "grid_template_areas": null,
       "grid_template_columns": null,
       "grid_template_rows": null,
       "height": null,
       "justify_content": null,
       "justify_items": null,
       "left": null,
       "margin": null,
       "max_height": null,
       "max_width": null,
       "min_height": null,
       "min_width": null,
       "object_fit": null,
       "object_position": null,
       "order": null,
       "overflow": null,
       "padding": null,
       "right": null,
       "top": null,
       "visibility": null,
       "width": null
      }
     },
     "76a56cf281604fe58d9826aa1dfdc657": {
      "model_module": "@jupyter-widgets/controls",
      "model_module_version": "2.0.0",
      "model_name": "VBoxModel",
      "state": {
       "_dom_classes": [],
       "_model_module": "@jupyter-widgets/controls",
       "_model_module_version": "2.0.0",
       "_model_name": "VBoxModel",
       "_view_count": 0,
       "_view_module": "@jupyter-widgets/controls",
       "_view_module_version": "2.0.0",
       "_view_name": "VBoxView",
       "box_style": "",
       "children": [
        "IPY_MODEL_05eb953d5c104df5848fe40d9ee67800"
       ],
       "layout": "IPY_MODEL_526813c13b20499fa9f304e1986532a1",
       "tabbable": null,
       "tooltip": null
      }
     },
     "8e5b59b2d77949f4b9c2413ef0052ab5": {
      "model_module": "@jupyter-widgets/base",
      "model_module_version": "2.0.0",
      "model_name": "LayoutModel",
      "state": {
       "_model_module": "@jupyter-widgets/base",
       "_model_module_version": "2.0.0",
       "_model_name": "LayoutModel",
       "_view_count": null,
       "_view_module": "@jupyter-widgets/base",
       "_view_module_version": "2.0.0",
       "_view_name": "LayoutView",
       "align_content": null,
       "align_items": null,
       "align_self": null,
       "border_bottom": null,
       "border_left": null,
       "border_right": null,
       "border_top": null,
       "bottom": null,
       "display": null,
       "flex": null,
       "flex_flow": null,
       "grid_area": null,
       "grid_auto_columns": null,
       "grid_auto_flow": null,
       "grid_auto_rows": null,
       "grid_column": null,
       "grid_gap": null,
       "grid_row": null,
       "grid_template_areas": null,
       "grid_template_columns": null,
       "grid_template_rows": null,
       "height": null,
       "justify_content": null,
       "justify_items": null,
       "left": null,
       "margin": null,
       "max_height": null,
       "max_width": null,
       "min_height": null,
       "min_width": null,
       "object_fit": null,
       "object_position": null,
       "order": null,
       "overflow": null,
       "padding": null,
       "right": null,
       "top": null,
       "visibility": null,
       "width": null
      }
     },
     "b29993f9b5e6403e878d423ae2bafebb": {
      "model_module": "jupyter-vuetify",
      "model_module_version": "^1.8.10",
      "model_name": "ThemeColorsModel",
      "state": {
       "_model_module": "jupyter-vuetify",
       "_model_module_version": "^1.8.10",
       "_model_name": "ThemeColorsModel",
       "_theme_name": "light",
       "_view_count": null,
       "_view_module": null,
       "_view_module_version": "^1.8.10",
       "_view_name": null,
       "accent": "#82B1FF",
       "anchor": null,
       "error": "#FF5252",
       "info": "#2196F3",
       "primary": "#1976D2",
       "secondary": "#424242",
       "success": "#4CAF50",
       "warning": "#FB8C00"
      }
     },
     "d7bea88a04bd4201b94bf5192302a28b": {
      "model_module": "jupyter-vue",
      "model_module_version": "^1.10.1",
      "model_name": "ForceLoadModel",
      "state": {
       "_dom_classes": [],
       "_model_module": "jupyter-vue",
       "_model_module_version": "^1.10.1",
       "_model_name": "ForceLoadModel",
       "_view_count": null,
       "_view_module": null,
       "_view_module_version": "",
       "_view_name": null,
       "layout": "IPY_MODEL_47747cbfb31245d49f926631fbaac2cb",
       "tabbable": null,
       "tooltip": null
      }
     },
     "e9b445ad919b4c46aea3eb1a024bd1fc": {
      "model_module": "jupyter-vuetify",
      "model_module_version": "^1.8.10",
      "model_name": "VuetifyTemplateModel",
      "state": {
       "_component_instances": [],
       "_dom_classes": [],
       "_jupyter_vue": "IPY_MODEL_d7bea88a04bd4201b94bf5192302a28b",
       "_model_module": "jupyter-vuetify",
       "_model_module_version": "^1.8.10",
       "_model_name": "VuetifyTemplateModel",
       "_view_count": null,
       "_view_module": "jupyter-vuetify",
       "_view_module_version": "^1.8.10",
       "_view_name": "VuetifyView",
       "components": null,
       "css": null,
       "data": null,
       "events": [],
       "layout": "IPY_MODEL_8e5b59b2d77949f4b9c2413ef0052ab5",
       "methods": null,
       "tabbable": null,
       "template": "\n<template>\n    <div class=\"solara-markdown rendered_html jp-RenderedHTMLCommon\" style=\"\"><h2 id=\"draw-on-the-canvas\">Draw on the canvas</h2></div>\n</template>\n\n<script>\nmodule.exports = {\n    mounted() {\n        if(window.mermaid)\n            mermaid.init()\n        if(window.MathJax && MathJax.Hub) {\n            MathJax.Hub.Queue(['Typeset', MathJax.Hub, this.$el]);\n        }\n        this.$el.querySelectorAll(\"a\").forEach(a => this.setupRouter(a))\n        window.md = this.$el\n    },\n    methods: {\n        setupRouter(a) {\n            let href = a.attributes['href'].value;\n            if(href.startsWith(\"./\")) {\n                // TODO: should we really do this?\n                href = location.pathname + href.substr(1);\n                a.attributes['href'].href = href;\n                // console.log(\"change href to\", href);\n            }\n            if(href.startsWith(\"./\") || href.startsWith(\"/\")) {\n                // console.log(\"connect link with href=\", href, \"to router\")\n                a.onclick = e => {\n                    console.log(\"clicked\", href)\n                    if(href.startsWith(\"./\")) {\n                        solara.router.push(href);\n                    } else {\n                        solara.router.push(href);\n                    }\n                    e.preventDefault()\n                }\n            } else if(href.startsWith(\"#\")) {\n                // console.log(\"connect anchor with href=\", href, \"to custom javascript due to using <base>\")\n                href = location.pathname + href;\n                a.attributes['href'].value = href;\n            } else {\n                console.log(\"href\", href, \"is not a local link\")\n            }\n        }\n    },\n    updated() {\n        // if the html gets update, re-run mermaid\n        if(window.mermaid)\n            mermaid.init()\n        if(window.MathJax && MathJax.Hub) {\n            MathJax.Hub.Queue(['Typeset', MathJax.Hub, this.$el]);\n        }\n    }\n}\n</script>\n    ",
       "tooltip": null
      }
     }
    },
    "version_major": 2,
    "version_minor": 0
   }
  }
 },
 "nbformat": 4,
 "nbformat_minor": 4
}
